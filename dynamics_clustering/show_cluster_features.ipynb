{
 "cells": [
  {
   "cell_type": "code",
   "execution_count": 24,
   "id": "ad1c1068-d085-4ab2-bb0d-fc60ef0103bb",
   "metadata": {},
   "outputs": [],
   "source": [
    "import numpy as np\n",
    "import matplotlib.pyplot as plt\n",
    "import pickle as pkl\n",
    "import xarray as xa\n",
    "from pprint import pprint\n",
    "\n",
    "fdir = \"/home/jungyoung/Project_win/hh_neuralnet/\"\n",
    "\n",
    "import sys\n",
    "sys.path.append('/home/jungyoung/Project/hh_neuralnet/include/')\n",
    "import hhtools\n",
    "import hhsignal\n",
    "\n",
    "import hhclustering as hc\n",
    "import utils \n",
    "import scipy\n",
    "\n",
    "from importlib import reload\n",
    "reload(utils)\n",
    "\n",
    "from tqdm.notebook import tqdm, trange\n",
    "from sklearn.cluster import KMeans\n",
    "from sklearn.metrics import adjusted_mutual_info_score\n",
    "from numba import njit"
   ]
  },
  {
   "cell_type": "code",
   "execution_count": 78,
   "id": "5d776998-a1dd-4942-b35f-3614b0d7696b",
   "metadata": {},
   "outputs": [],
   "source": [
    "def get_base_idx(ne):\n",
    "    return 16*ne + np.arange(16)\n",
    "    \n",
    "\n",
    "summary_obj = hhtools.SummaryLoader(\"../three_pop_mpi/simulation_data/data\", load_only_control=True)\n",
    "cid_dataset = xa.load_dataset(\"./data/cluster_id_update_sub.nc\")\n",
    "cid_flat = cid_dataset.cluster_id.data.flatten()\n",
    "\n",
    "with open(\"./data/align_data_sub.pkl\", 'rb') as fp:\n",
    "    align_data = pkl.load(fp)\n",
    "echelon = np.array([c[\"rank\"] for c in align_data[\"col_names\"]])\n",
    "data_partial = align_data[\"data\"][:-2, :]\n",
    "lb_partial = align_data[\"row_labels\"][:-2]\n",
    "num_lb = len(lb_partial)"
   ]
  },
  {
   "cell_type": "markdown",
   "id": "590fce04-caec-49f5-a9aa-dae755ca7ca1",
   "metadata": {},
   "source": [
    "# Find representative point"
   ]
  },
  {
   "cell_type": "code",
   "execution_count": 257,
   "id": "9bf1f651-adb2-4dff-89bb-25a7f239a1fb",
   "metadata": {},
   "outputs": [],
   "source": [
    "repr_locs = dict(key_names=(\"alpha\", \"beta\", \"echelon\", \"w\"),\n",
    "                 nbest=nbest,\n",
    "                 loc=[[] for i in range(10)])\n",
    "\n",
    "for target_id in range(1, 10):\n",
    "    idx = np.array(np.where(cid_dataset.cluster_id == target_id))\n",
    "    sval_sub = np.array([cid_dataset.sval.data[idx[0][i], idx[1][i], idx[2][i], idx[3][i]] for i in range(len(idx[0]))])\n",
    "    w = (sval_sub - np.min(sval_sub)) / (np.max(sval_sub) - np.min(sval_sub))\n",
    "\n",
    "    w_sort = np.sort(w)[::-1]\n",
    "    idx_sort = idx[:, np.argsort(w)[::-1]]\n",
    "    \n",
    "    # nbest = 300\n",
    "    # nbest = 50\n",
    "    nbest = int(0.1 * len(sval_sub))\n",
    "    wsum = 0\n",
    "    idx_center = np.zeros(4)\n",
    "    for n in range(nbest):\n",
    "        idx_center += idx_sort[:, n] * w_sort[n]\n",
    "    idx_center = np.round(idx_center / nbest)\n",
    "\n",
    "    repr_locs[\"loc\"][target_id] = idx_center\n",
    "\n",
    "with open(\"./data/cluster_repr_points.pkl\", \"wb\") as fp:\n",
    "    pkl.dump(repr_locs, fp)"
   ]
  },
  {
   "cell_type": "code",
   "execution_count": 293,
   "id": "7877bf3b-3920-436a-803a-f598018e76bc",
   "metadata": {},
   "outputs": [
    {
     "name": "stdout",
     "output_type": "stream",
     "text": [
      "0.29, 0.07, 0.0, 0.600000\n",
      "0.71, 0.64, 0.0, 0.000000\n",
      "1.29, 0.57, 0.0, 0.850000\n",
      "1.14, 0.21, 0.5, 0.000000\n",
      "1.14, 0.71, 1.0, 0.900000\n",
      "1.00, 0.71, 0.5, -0.100000\n",
      "0.86, 0.79, 1.0, -0.300000\n",
      "0.43, 0.07, 1.0, 0.450000\n",
      "0.57, 0.43, 1.0, -0.500000\n"
     ]
    }
   ],
   "source": [
    "for i in range(1, 10):\n",
    "    loc = np.array(repr_locs[\"loc\"][i], dtype=int)\n",
    "    print(\"%.2f, %.2f, %.1f, %f\"%(summary_obj.controls[\"alpha_set\"][loc[0]], summary_obj.controls[\"beta_set\"][loc[1]], summary_obj.controls[\"rank_set\"][loc[2]], summary_obj.controls[\"p_ratio_set\"][loc[3]]))"
   ]
  },
  {
   "cell_type": "markdown",
   "id": "e7aa4be4-a3a5-4cf6-83c2-99e9e14f07e9",
   "metadata": {},
   "source": [
    "# Show representative dynamics"
   ]
  },
  {
   "cell_type": "code",
   "execution_count": null,
   "id": "f4c22563-c135-4302-9659-691b60155e3c",
   "metadata": {},
   "outputs": [],
   "source": [
    "tp_labels = (\"Fast\", \"Slow\")\n",
    "\n",
    "for target_id in range(1, 10): # target_id = 8\n",
    "\n",
    "    idx = np.where(cid_dataset.cluster_id == target_id)\n",
    "    sval_sub = np.array([cid_dataset.sval.data[idx[0][i], idx[1][i], idx[2][i], idx[3][i]] for i in range(len(idx[0]))])\n",
    "    \n",
    "    nmax = np.argmax(sval_sub)\n",
    "    idx_max = [n[nmax] for n in idx]\n",
    "    \n",
    "    detail_data = summary_obj.load_detail(*repr_locs[\"loc\"][target_id], 0)\n",
    "    idx_max_flat = int(summary_obj.get_id(*repr_locs[\"loc\"][target_id], 0) // 9)\n",
    "    \n",
    "    num_echelon, _ = np.histogram(echelon[cid_flat == target_id], [0, 1, 2, 3])\n",
    "    num_echelon_dom = np.argmax(num_echelon)\n",
    "    data_base = data_partial[:, get_base_idx(num_echelon_dom)].mean(axis=1)\n",
    "    \n",
    "    w = (sval_sub - np.min(sval_sub)) / (np.max(sval_sub) - np.min(sval_sub))\n",
    "    data_partial_mean = np.average(data_partial[:, cid_flat==target_id] * w[None, :], axis=1)\n",
    "    \n",
    "    plt.figure(figsize=(10, 3))\n",
    "    \n",
    "    plt.axes(position=(0.1, 0.3, 0.5, 0.6))\n",
    "    plt.plot(data_partial[:, cid_flat==target_id]-data_base[:, None], 'k', alpha=0.01)\n",
    "    plt.plot(data_partial[:, idx_max_flat]-data_base, 'r')\n",
    "    # plt.plot(data_partial[:, cid_flat==target_id].mean(axis=1)-data_base, 'r')\n",
    "    # plt.plot(data_partial_mean-data_base, \"r\")\n",
    "    plt.plot([-0.5, num_lb-0.5], [0, 0], 'k--', zorder=-1)\n",
    "    plt.xticks(np.arange(num_lb), lb_partial, rotation=60, fontsize=10)\n",
    "    plt.ylim([-5, 5])\n",
    "    plt.xlim([-0.5, num_lb-0.5])\n",
    "    plt.ylabel(r\"$Z - Z_{\\alpha=\\beta=0}$\", fontsize=14)\n",
    "    \n",
    "    ax_f = plt.axes(position=(0.68, 0.52, 0.22, 0.38))\n",
    "    ax_s = plt.axes(position=(0.68, 0.05, 0.22, 0.38))\n",
    "    for n, ax in enumerate([ax_f, ax_s]):\n",
    "        plt.axes(ax)\n",
    "        psd_t, fpsd, tpsd = hhsignal.get_stfft(detail_data[\"vlfp\"][n+1], detail_data[\"ts\"], fs=2000, mbin_t=0.1, wbin_t=0.5, frange=(5, 100))\n",
    "        hhtools.imshow_xy(psd_t, x=tpsd, y=fpsd, cmap=\"jet\", interpolation=\"bicubic\", vmin=0.0, vmax=None)\n",
    "        plt.xlim([0.5, 4.5])\n",
    "        plt.xticks([])\n",
    "        plt.ylabel(\"Frequency (Hz)\", fontsize=10)        \n",
    "        ob = hhtools.AnchoredHScaleBar(ax=ax, size=1, label=\"1 s\", loc=\"lower left\", frameon=False,\n",
    "                            pad=0.08, sep=2, linecolor=\"w\", fontcolor=\"w\",\n",
    "                            fontsize=12, fontstyle=\"italic\")\n",
    "        ax.add_artist(ob)\n",
    "        plt.text(3.2, 80, tp_labels[n], color=\"w\", fontsize=14, fontstyle=\"italic\", fontweight=\"bold\")\n",
    "    \n",
    "    # plt.show()\n",
    "    plt.savefig(\"./figs/cluster_features/cid%d.png\"%(target_id), bbox_inches=\"tight\")"
   ]
  },
  {
   "cell_type": "markdown",
   "id": "d6b20632-09fe-4716-8ab9-b12a5e709f6e",
   "metadata": {},
   "source": [
    "# Fequency change in each cluster"
   ]
  },
  {
   "cell_type": "code",
   "execution_count": 271,
   "id": "991f4e3b-5105-4ea5-ab69-e44cef95e6ae",
   "metadata": {},
   "outputs": [],
   "source": [
    "def _fft(detail):\n",
    "    idt = detail[\"ts\"] >= 0.5\n",
    "    vlfp = detail[\"vlfp\"][nt][idt]\n",
    "    ts = detail[\"ts\"][idt]\n",
    "    fs = np.round(1/(ts[1] - ts[0]))\n",
    "\n",
    "    # psd, fpsd, tpsd = hhsignal.get_stfft(vlfp, ts, fs, mbin_t=0.1, wbin_t=1, frange=(3, 120))\n",
    "    psd, fpsd = hhsignal.get_fft(vlfp, fs, nbin_t=2, frange=(3, 200))\n",
    "    return psd, fpsd\n",
    "\n",
    "\n",
    "psd_set, psd_base_set = [], []\n",
    "for cid in range(1, 10):\n",
    "    psd_tot = [0, 0, 0]\n",
    "    for i in range(9):\n",
    "        detail = summary_obj.load_detail(*repr_locs[\"loc\"][cid], i)\n",
    "        for nt in range(3):    \n",
    "            psd, fpsd = _fft(detail)\n",
    "            psd_tot[nt] += psd/9\n",
    "    psd_set.append(psd_tot)\n",
    "\n",
    "    # base\n",
    "    psd_base = [0, 0, 0]    \n",
    "    nechelon = repr_locs[\"loc\"][cid][2]\n",
    "    \n",
    "    for i in range(9):\n",
    "        detail_base = sobj_base.load_detail(0, 0, nechelon, 0, i)\n",
    "        for nt in range(3):\n",
    "            psd_b, fpsd_b = _fft(detail_base)\n",
    "            psd_base[nt] += psd_b/9\n",
    "    psd_base_set.append(psd_base)"
   ]
  },
  {
   "cell_type": "code",
   "execution_count": 273,
   "id": "e779bf49-b83f-4751-8e8f-9c028d6f4bf3",
   "metadata": {},
   "outputs": [
    {
     "data": {
      "image/png": "[encoded data removed]",
      "text/plain": [
       "<Figure size 400x250 with 1 Axes>"
      ]
     },
     "metadata": {},
     "output_type": "display_data"
    }
   ],
   "source": [
    "from scipy.signal import savgol_filter\n",
    "\n",
    "plt.figure(figsize=(4, 2.5))\n",
    "\n",
    "cset = [\"k\", \"#b50202\", \"#008bdd\"]\n",
    "markers = [\"\", \"o\", \">\"]\n",
    "\n",
    "# fpeaks = [[] for _ in range(8)]\n",
    "fpeaks_b = [[], [], []]\n",
    "\n",
    "for nc in range(9):\n",
    "    for nt in range(1, 3):\n",
    "        yhat = savgol_filter(psd_set[nc][nt], 21, 1)\n",
    "        npeaks = hhsignal.detect_peak(yhat, prominence=0.01, mode=0)\n",
    "        \n",
    "        # print(\"Cluster %d\"%(nc+1))\n",
    "        for n in npeaks:\n",
    "            if nt == 1:\n",
    "                plt.plot(nc+1, fpsd[n], markers[nt], color=cset[nt], markerfacecolor=[1, 0, 0, 0.8], markersize=8)\n",
    "            if nt == 2:\n",
    "                plt.plot(nc+1, fpsd[n], markers[nt], color=cset[nt], markerfacecolor=\"none\", markersize=10)\n",
    "            # print(\"%.3f\"%(fpsd[n]))\n",
    "            \n",
    "        yhat_b = savgol_filter(psd_base_set[nc][nt], 21, 1)\n",
    "        npeaks = hhsignal.detect_peak(yhat_b, prominence=0.02, mode=0)\n",
    "        \n",
    "        fpeaks_b[nt].append(fpsd[npeaks[0]])\n",
    "\n",
    "fpeaks_b[1][-3] = fpeaks_b[1][-1]\n",
    "fpeaks_b[2][-3] = fpeaks_b[2][-1]\n",
    "        \n",
    "plt.plot(np.arange(9)+1, fpeaks_b[1], '--', c=cset[1], alpha=0.4)\n",
    "plt.plot(np.arange(9)+1, fpeaks_b[2], '--', c=cset[2], alpha=0.4)\n",
    "\n",
    "plt.xticks(np.arange(1, 10))\n",
    "plt.ylim([20, 75])\n",
    "\n",
    "plt.xlabel(\"Cluster ID\", fontsize=14)\n",
    "plt.ylabel(\"peak frequency (Hz)\", fontsize=14)\n",
    "\n",
    "plt.show()"
   ]
  },
  {
   "cell_type": "code",
   "execution_count": null,
   "id": "fd10cdf4-b3f8-4086-82c3-06c651436e66",
   "metadata": {},
   "outputs": [],
   "source": []
  },
  {
   "cell_type": "code",
   "execution_count": null,
   "id": "2b369e9b-58c4-4aed-8326-d19507478643",
   "metadata": {},
   "outputs": [],
   "source": []
  }
 ],
 "metadata": {
  "kernelspec": {
   "display_name": "Python 3 (ipykernel)",
   "language": "python",
   "name": "python3"
  },
  "language_info": {
   "codemirror_mode": {
    "name": "ipython",
    "version": 3
   },
   "file_extension": ".py",
   "mimetype": "text/x-python",
   "name": "python",
   "nbconvert_exporter": "python",
   "pygments_lexer": "ipython3",
   "version": "3.10.9"
  }
 },
 "nbformat": 4,
 "nbformat_minor": 5
}
