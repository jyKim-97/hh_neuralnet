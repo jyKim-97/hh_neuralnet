{
 "cells": [
  {
   "cell_type": "code",
   "execution_count": 1,
   "id": "52d2392d-5d13-4304-8884-83d262f4eb77",
   "metadata": {},
   "outputs": [
    {
     "data": {
      "text/plain": [
       "<module 'utils' from '/home/jungyoung/Project/hh_neuralnet/dynamics_clustering/utils.py'>"
      ]
     },
     "execution_count": 1,
     "metadata": {},
     "output_type": "execute_result"
    }
   ],
   "source": [
    "import numpy as np\n",
    "import matplotlib.pyplot as plt\n",
    "import pickle as pkl\n",
    "import xarray as xa\n",
    "\n",
    "fdir = \"/home/jungyoung/Project_win/hh_neuralnet/\"\n",
    "\n",
    "import hhclustering as hc\n",
    "import utils \n",
    "\n",
    "from importlib import reload\n",
    "reload(utils)"
   ]
  },
  {
   "cell_type": "code",
   "execution_count": 2,
   "id": "93ead689",
   "metadata": {},
   "outputs": [
    {
     "data": {
      "text/plain": [
       "Coordinates:\n",
       "  * key      (key) object 'chi' 'cv' 'frs_m' ... 'leading_ratio(abs)' 'dphi'\n",
       "  * alpha    (alpha) float64 0.0 0.1429 0.2857 0.4286 ... 1.571 1.714 1.857 2.0\n",
       "  * beta     (beta) float64 0.0 0.07143 0.1429 0.2143 ... 0.8571 0.9286 1.0\n",
       "  * w        (w) float64 0.1 0.25 0.4 0.55 0.7 0.85 1.0\n",
       "  * pop      (pop) object 'T' 'F' 'S'\n",
       "  * rank     (rank) float64 0.0 0.5 1.0\n",
       "  * type     (type) object 'mean' 'var'"
      ]
     },
     "execution_count": 2,
     "metadata": {},
     "output_type": "execute_result"
    }
   ],
   "source": [
    "postdata = xa.open_dataarray(\"../three_pop_mpi/simulation_data/postdata.nc\")\n",
    "\n",
    "# coordiinate of postdata\n",
    "postdata.coords"
   ]
  },
  {
   "cell_type": "code",
   "execution_count": 3,
   "id": "0e7f1e9b",
   "metadata": {},
   "outputs": [
    {
     "name": "stdout",
     "output_type": "stream",
     "text": [
      "50 4725\n"
     ]
    }
   ],
   "source": [
    "## Extract row and column informatio\n",
    "\n",
    "# Extract row\n",
    "num_row = 0\n",
    "index_row = []\n",
    "for k in postdata.coords[\"key\"].data:\n",
    "    if \"_ft\" in k:\n",
    "        continue\n",
    "\n",
    "    if \"leading_ratio\" in k:\n",
    "        num_row += 1\n",
    "        index_row.append(dict(key=k, pop=[\"F\"], type=[\"mean\"]))\n",
    "    elif \"cc\" in k or \"dphi\" in k:\n",
    "        num_row += len(postdata.coords[\"type\"])\n",
    "        index_row.append(dict(key=k, pop=[\"S\"], type=[\"mean\", \"var\"]))\n",
    "    else:\n",
    "        num_row += len(postdata.coords[\"type\"]) * len(postdata.coords[\"pop\"])\n",
    "        index_row.append(dict(key=k, pop=[\"T\", \"F\", \"S\"], type=[\"mean\", \"var\"]))\n",
    "    \n",
    "# Extract column\n",
    "num_col = len(postdata.coords[\"alpha\"]) * len(postdata.coords[\"beta\"]) * len(postdata.coords[\"w\"]) * len(postdata.coords[\"rank\"])\n",
    "index_col = []\n",
    "for a in postdata.coords[\"alpha\"].data:\n",
    "    for b in postdata.coords[\"beta\"].data:\n",
    "        for w in postdata.coords[\"w\"].data:\n",
    "            for r in postdata.coords[\"rank\"].data:\n",
    "                index_col.append(dict(alpha=a, beta=b, w=w, rank=r))\n",
    "                \n",
    "print(num_row, num_col)"
   ]
  },
  {
   "cell_type": "code",
   "execution_count": 25,
   "id": "ace893a7",
   "metadata": {},
   "outputs": [],
   "source": [
    "## align data\n",
    "\n",
    "scaling = False # min-max scaling\n",
    "\n",
    "row_names = []\n",
    "pop_types = []\n",
    "data = np.zeros([num_row, num_col])\n",
    "\n",
    "nid = 0\n",
    "for nr in range(len(index_row)):\n",
    "    key = index_row[nr][\"key\"]\n",
    "    for pop in index_row[nr][\"pop\"]:\n",
    "        for tp in index_row[nr][\"type\"]:\n",
    "            \n",
    "            # read data\n",
    "            data[nid, :] = postdata.sel(dict(key=key, pop=pop, type=tp)).data.flatten()\n",
    "            \n",
    "            if tp == \"var\":\n",
    "                var_data = data[nid, :]\n",
    "                if any(var_data < 0):\n",
    "                    min_data = np.min(var_data)\n",
    "                    if -min_data < 1e-5:\n",
    "                        var_data[var_data < 0] = 0\n",
    "                    else:\n",
    "                        print(\"Error in calculating var, min val: %.4f\"%(min_data))\n",
    "                \n",
    "                data[nid, :] = np.sqrt(var_data)\n",
    "            \n",
    "            pop_types.append(pop)\n",
    "            nid += 1\n",
    "            \n",
    "            # get row name\n",
    "            lb = key + \"(%s)\"%(pop)\n",
    "            if tp == \"var\":\n",
    "                lb += \"_std\"\n",
    "            row_names.append(lb)\n",
    "\n",
    "row_labels = utils.mapping(row_names, num_in_pop=False)\n",
    "\n",
    "# min-max scaling\n",
    "if scaling:\n",
    "    min_data = np.min(data, axis=1)[:, np.newaxis]\n",
    "    max_data = np.max(data, axis=1)[:, np.newaxis]\n",
    "    data = (data - min_data) / (max_data - min_data)\n",
    "    # data = (data - np.average(data, axis=1)[:, np.newaxis]) / np.std(data, axis=1)[:, np.newaxis]\n",
    "\n",
    "# pack data\n",
    "align_data = {\n",
    "    \"data\": data,\n",
    "    \"pop_types\": pop_types,\n",
    "    \"col_names\": index_col,\n",
    "    \"row_names\": row_names,\n",
    "    \"row_labels\": row_labels,\n",
    "    \"scaled\": scaling,\n",
    "    \"date\": utils.get_date_string()\n",
    "}\n"
   ]
  },
  {
   "cell_type": "code",
   "execution_count": 26,
   "id": "ce852669",
   "metadata": {},
   "outputs": [],
   "source": [
    "## Save\n",
    "with open(\"./data/align_data.pkl\", \"wb\") as fp:\n",
    "    pkl.dump(align_data, fp)"
   ]
  },
  {
   "cell_type": "code",
   "execution_count": null,
   "id": "ab1a29be",
   "metadata": {},
   "outputs": [],
   "source": []
  }
 ],
 "metadata": {
  "kernelspec": {
   "display_name": "Python 3 (ipykernel)",
   "language": "python",
   "name": "python3"
  },
  "language_info": {
   "codemirror_mode": {
    "name": "ipython",
    "version": 3
   },
   "file_extension": ".py",
   "mimetype": "text/x-python",
   "name": "python",
   "nbconvert_exporter": "python",
   "pygments_lexer": "ipython3",
   "version": "3.10.11"
  }
 },
 "nbformat": 4,
 "nbformat_minor": 5
}
