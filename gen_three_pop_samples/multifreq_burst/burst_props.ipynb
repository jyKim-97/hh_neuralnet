{
 "cells": [
  {
   "cell_type": "code",
   "execution_count": 267,
   "id": "0428ef8e-77fb-4eee-92d5-471ec9fa5830",
   "metadata": {},
   "outputs": [],
   "source": [
    "import numpy as np\n",
    "import matplotlib.pyplot as plt\n",
    "import pickle as pkl\n",
    "import pandas as pd\n",
    "\n",
    "plt.rcParams[\"figure.facecolor\"] = \"w\""
   ]
  },
  {
   "cell_type": "code",
   "execution_count": 160,
   "id": "6c38ac35-7f51-43ec-9dc8-8ddfb62bcd2b",
   "metadata": {},
   "outputs": [
    {
     "name": "stdout",
     "output_type": "stream",
     "text": [
      "dict_keys(['burst_f', 'burst_range', 'burst_amp', 'cluster_id', 'pop_type'])\n"
     ]
    }
   ],
   "source": [
    "fname = \"./burst_info_data.pkl\"\n",
    "\n",
    "with open(fname, \"rb\") as fp:\n",
    "    burst_info = pkl.load(fp)\n",
    "print(burst_info.keys())\n",
    "\n",
    "df_burst = pd.DataFrame(burst_info)\n",
    "df_burst[\"cluster_id\"] += 1"
   ]
  },
  {
   "cell_type": "code",
   "execution_count": 242,
   "id": "752d01bf-c678-4f57-becc-1a977b4415ba",
   "metadata": {},
   "outputs": [],
   "source": [
    "nc = 1\n",
    "pop_type = 0\n",
    "\n",
    "\n",
    "def read_burst(df, target_cluster_id=0, target_pop_type=-1):\n",
    "    cond = (df[\"cluster_id\"] == target_cluster_id) & (df[\"pop_type\"] == target_pop_type)\n",
    "    burst = dict()\n",
    "    burst[\"burst_amp\"] = get_attrib(df, \"burst_amp\", cond)\n",
    "    burst[\"burst_f\"] = get_attrib(df, \"burst_f\", cond)\n",
    "    burst_range = get_attrib(df, \"burst_range\", cond)\n",
    "    if burst_range.shape[0] > 0:\n",
    "        burst[\"burst_duration\"] = burst_range[:, 1] - burst_range[:, 0]\n",
    "    else:\n",
    "        burst[\"burst_duration\"] = [-1]\n",
    "    return burst\n",
    "\n",
    "\n",
    "def get_attrib(df, attrib_name, condition):\n",
    "    df_sub = df[condition]\n",
    "    attrib = []\n",
    "    for arr in df_sub[attrib_name]:\n",
    "        attrib.extend(arr)\n",
    "    return np.array(attrib)\n",
    "\n",
    "\n",
    "burst_sub = read_burst(df_burst, target_cluster_id=1, target_pop_type=0)"
   ]
  },
  {
   "cell_type": "code",
   "execution_count": 54,
   "id": "2da615d3-8d55-4868-922e-d602e413259a",
   "metadata": {},
   "outputs": [
    {
     "data": {
      "image/png": "[encoded data removed]",
      "text/plain": [
       "<Figure size 400x400 with 1 Axes>"
      ]
     },
     "metadata": {},
     "output_type": "display_data"
    }
   ],
   "source": [
    "plt.figure(figsize=(4,4))\n",
    "plt.hist(burst_sub[\"burst_amp\"], 20)\n",
    "plt.show()"
   ]
  },
  {
   "cell_type": "code",
   "execution_count": 139,
   "id": "be8de5f6-bee7-4d21-b7eb-6bc8e4cd7944",
   "metadata": {},
   "outputs": [],
   "source": [
    "burst = read_burst(df_burst, 4, 0)"
   ]
  },
  {
   "cell_type": "code",
   "execution_count": 155,
   "id": "e7bcf7a3-4238-476f-8c7f-4f3a85e5c854",
   "metadata": {},
   "outputs": [
    {
     "data": {
      "text/plain": [
       "array([ 0.,  1.,  2.,  3.,  4.,  5.,  6.,  7.,  8.,  9., 10., 11., 12.,\n",
       "       13., 14.])"
      ]
     },
     "execution_count": 155,
     "metadata": {},
     "output_type": "execute_result"
    }
   ],
   "source": [
    "df_burst[\"cluster_id\"].unique()"
   ]
  },
  {
   "cell_type": "code",
   "execution_count": 263,
   "id": "541ef083-4a4a-4586-a0ee-2247da31c23f",
   "metadata": {},
   "outputs": [],
   "source": [
    "def draw_hist(df, target_cluster_id, figsize=(9, 3.5), dpi=120,\n",
    "              f_range=(10, 100), amp_range=(0.1, 0.3), t_range=(0., 1), nbin=40,\n",
    "              norm=False):\n",
    "    \n",
    "    keys = (\"burst_f\", \"burst_amp\", \"burst_duration\")\n",
    "    key_range = (f_range, amp_range, t_range)\n",
    "    key_labels = (r\"$f_{center}$ (Hz)\", r\"$\\langle A \\rangle$\", r\"$T$ (s)\")\n",
    "    cs = (\"r\", \"b\")\n",
    "    pop_labels = (r\"$Fast$\", r\"$Slow$\")\n",
    "    \n",
    "    num_burst = []\n",
    "    fig, axs = plt.subplots(1, 3, figsize=figsize, dpi=dpi)\n",
    "    for n in range(2):\n",
    "        burst_sub = read_burst(df_burst, target_cluster_id=target_cluster_id, target_pop_type=n)\n",
    "        num_burst.append(len(burst_sub[\"burst_f\"]))\n",
    "        for i in range(3):\n",
    "            r = key_range[i]\n",
    "            edges = np.linspace(r[0], r[1], nbin)\n",
    "            \n",
    "            if keys[i] == \"burst_duration\":\n",
    "                dt = 0.15\n",
    "                edges = np.arange(r[0], r[1]+dt/2, dt)\n",
    "                \n",
    "            hist_bin, _ = np.histogram(burst_sub[keys[i]], bins=edges, density=False)\n",
    "            if norm:\n",
    "                hist_bin = np.array(hist_bin) / np.sum(hist_bin)\n",
    "            \n",
    "            x = (edges[1:] + edges[:-1])/2\n",
    "            axs[i].plot(x, hist_bin, '.--', lw=1, ms=5, c=cs[n], label=pop_labels[n])\n",
    "            axs[i].set_xlabel(key_labels[i], fontsize=13)\n",
    "    \n",
    "    for i in range(3):\n",
    "        axs[i].legend(loc=\"upper right\")\n",
    "        \n",
    "    plt.suptitle(\"Cluster id = %d (# burst = %d(F),%d(S))\"%(target_cluster_id, num_burst[0], num_burst[1]),\n",
    "                 fontsize=14, weight=\"bold\")\n",
    "        \n",
    "    plt.tight_layout()\n",
    "    return fig\n",
    "    "
   ]
  },
  {
   "cell_type": "code",
   "execution_count": 264,
   "id": "7fa73539-018d-4c29-ad3d-a22430c0177c",
   "metadata": {},
   "outputs": [],
   "source": [
    "K = len(df_burst[\"cluster_id\"].unique())\n",
    "range_set = [{} for _ in range(K+1)]\n",
    "for nc in range(1, K):\n",
    "    range_set[nc][\"f_range\"] = (10, 90)\n",
    "    range_set[nc][\"amp_range\"] = (0.17, 0.3)\n",
    "    range_set[nc][\"t_range\"] = (0, 1.2)\n",
    "\n",
    "# hard fix\n",
    "range_set[5][\"amp_range\"]  = (0.5, 1.2)\n",
    "range_set[6][\"amp_range\"]  = (0.28, 0.7)\n",
    "range_set[7][\"amp_range\"]  = (0.28, 0.7)\n",
    "range_set[8][\"amp_range\"]  = (0.5, 1.2)\n",
    "range_set[9][\"amp_range\"]  = (0.28, 0.7)\n",
    "range_set[10][\"amp_range\"] = (0.28, 0.7)\n",
    "range_set[11][\"amp_range\"] = (0.5, 1.2)\n",
    "range_set[12][\"amp_range\"] = (0.5, 1.2)\n",
    "range_set[13][\"amp_range\"] = (0.5, 1.2)\n",
    "range_set[14][\"amp_range\"] = (0.5, 1.2)\n",
    "range_set[15][\"amp_range\"] = (0.5, 1.2)"
   ]
  },
  {
   "cell_type": "code",
   "execution_count": null,
   "id": "1cf26f90-1fec-4fc6-b1d7-e308244bbaa6",
   "metadata": {},
   "outputs": [],
   "source": []
  },
  {
   "cell_type": "code",
   "execution_count": null,
   "id": "ceae725c-45cc-49b6-a3cb-c5c6f2a04df0",
   "metadata": {},
   "outputs": [],
   "source": [
    "for nc in range(1, K+1):\n",
    "    fig = draw_hist(df_burst, nc, norm=True, **range_set[nc], nbin=35)\n",
    "    fig.savefig(\"./figs/burst_info_%02d.png\"%(nc), dpi=150)"
   ]
  },
  {
   "cell_type": "code",
   "execution_count": null,
   "id": "4a38834e-319f-4c79-ba69-b0c870974b48",
   "metadata": {},
   "outputs": [],
   "source": []
  },
  {
   "cell_type": "code",
   "execution_count": null,
   "id": "8bc2429a-8102-4336-baf7-6ce2389685e4",
   "metadata": {},
   "outputs": [],
   "source": []
  }
 ],
 "metadata": {
  "kernelspec": {
   "display_name": "Python 3 (ipykernel)",
   "language": "python",
   "name": "python3"
  },
  "language_info": {
   "codemirror_mode": {
    "name": "ipython",
    "version": 3
   },
   "file_extension": ".py",
   "mimetype": "text/x-python",
   "name": "python",
   "nbconvert_exporter": "python",
   "pygments_lexer": "ipython3",
   "version": "3.9.13"
  }
 },
 "nbformat": 4,
 "nbformat_minor": 5
}
