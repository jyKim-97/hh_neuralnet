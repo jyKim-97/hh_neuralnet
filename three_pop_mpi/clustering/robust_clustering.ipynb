{
 "cells": [
  {
   "cell_type": "markdown",
   "id": "d352093e-e3f4-4c1b-8b0f-c4fbc6d7eaab",
   "metadata": {},
   "source": [
    "Robust clustering"
   ]
  },
  {
   "cell_type": "code",
   "execution_count": 3,
   "id": "53584392-26e7-4a1b-a8e3-fb2f2b4d812c",
   "metadata": {},
   "outputs": [],
   "source": [
    "import numpy as np\n",
    "import pickle as pkl\n",
    "import matplotlib.pyplot as plt"
   ]
  },
  {
   "cell_type": "markdown",
   "id": "580bd93a-3d54-4472-8d52-01717974663b",
   "metadata": {},
   "source": [
    "## Check clustering result "
   ]
  },
  {
   "cell_type": "code",
   "execution_count": 4,
   "id": "50f5de6e-ad09-4c57-b130-86a015f9123f",
   "metadata": {},
   "outputs": [],
   "source": [
    "with open(\"./clustering.pkl\", \"rb\") as fp:\n",
    "    cluster_result = pkl.load(fp)\n",
    "cluster_result.keys()\n",
    "\n",
    "N = cluster_result[\"km_objs\"][0].cluster_centers_.shape[0]"
   ]
  },
  {
   "cell_type": "code",
   "execution_count": 30,
   "id": "5a5dc8d4-be11-4a87-aca5-0a01d4245d75",
   "metadata": {},
   "outputs": [],
   "source": [
    "adj_mat = cluster_result[\"same_prob\"]\n",
    "degree = [np.sum(adj_mat[i]) for i in range(adj_mat.shape[0])]"
   ]
  },
  {
   "cell_type": "code",
   "execution_count": 139,
   "id": "1be4afd7-41ce-4f65-af37-7e282bed7743",
   "metadata": {},
   "outputs": [],
   "source": [
    "with open(\"./data/network.pkl\", \"wb\") as fp:\n",
    "    pkl.dump({\"adj_mat\": adj_mat,\n",
    "              \"degree\": degree}, fp)"
   ]
  },
  {
   "cell_type": "markdown",
   "id": "0a69f502-5fa5-4c2d-8077-52341271a888",
   "metadata": {},
   "source": [
    "## Generate network "
   ]
  },
  {
   "cell_type": "code",
   "execution_count": 36,
   "id": "3cf5f043-536f-4ff8-a26b-6be9d336ddd8",
   "metadata": {},
   "outputs": [],
   "source": [
    "import networkx as nx\n",
    "\n",
    "# set attribute\n",
    "with open(\"../simulation_data/purified_data.pkl\", \"rb\") as fp:\n",
    "    pdata = pkl.load(fp)\n",
    "    \n",
    "with open(\"./data/rcluster_nrank3.pkl\", \"rb\") as fp:\n",
    "    cinfo = pkl.load(fp)"
   ]
  },
  {
   "cell_type": "code",
   "execution_count": 164,
   "id": "f39cb8cf-f60b-4373-ac08-7ba84965c0b5",
   "metadata": {},
   "outputs": [
    {
     "data": {
      "text/plain": [
       "dict_keys(['data', 'row_labels', 'row_names', 'col_names', 'removed'])"
      ]
     },
     "execution_count": 164,
     "metadata": {},
     "output_type": "execute_result"
    }
   ],
   "source": [
    "pdata.keys()"
   ]
  },
  {
   "cell_type": "code",
   "execution_count": 175,
   "id": "ec77b7ed-7ef6-4f82-9769-e3f7869d518c",
   "metadata": {},
   "outputs": [],
   "source": [
    "# Show random 1000 points\n",
    "np.random.seed(100)\n",
    "\n",
    "nshow = 500\n",
    "p = np.array(degree)/np.sum(degree)\n",
    "node_id = np.random.choice(len(p), size=nshow, p=p, replace=False)\n",
    "edges = [(i, j, adj_mat[i, j]) for i in node_id for j in node_id if i != j]"
   ]
  },
  {
   "cell_type": "code",
   "execution_count": 177,
   "id": "7a86711a-0a2a-40cd-aed8-80f2310de092",
   "metadata": {},
   "outputs": [],
   "source": [
    "def set_node_attrib(G, attrib_val, attrib_name):\n",
    "    attrib = dict()\n",
    "    for n in range(len(attrib_val)):\n",
    "        attrib[n] = attrib_val[n]\n",
    "    nx.set_node_attributes(G, attrib, attrib_name)\n",
    "    \n",
    "G = nx.Graph()\n",
    "G.add_nodes_from(node_id)\n",
    "G.add_weighted_edges_from(edges)\n",
    "\n",
    "set_node_attrib(G, cinfo[\"rcluster_id\"], \"clsuter_id\")\n",
    "\n",
    "for n in range(pdata[\"data\"].shape[0]):\n",
    "    set_node_attrib(G, pdata[\"data\"][n, :], pdata[\"row_names\"][n])\n",
    "    \n",
    "for n in range(len(pdata[\"removed\"][\"row_names\"])):\n",
    "    set_node_attrib(G, pdata[\"removed\"][\"data\"][n, :], pdata[\"removed\"][\"row_names\"][n])"
   ]
  },
  {
   "cell_type": "code",
   "execution_count": 187,
   "id": "e4da8a08-c93c-41e8-abdd-d17084dbd281",
   "metadata": {},
   "outputs": [],
   "source": [
    "nx.write_gexf(G, \"graph.gexf\")"
   ]
  },
  {
   "cell_type": "code",
   "execution_count": null,
   "id": "7a5ebbc6-163f-4d88-95a2-582fad042050",
   "metadata": {},
   "outputs": [],
   "source": []
  }
 ],
 "metadata": {
  "kernelspec": {
   "display_name": "Python 3",
   "language": "python",
   "name": "python3"
  },
  "language_info": {
   "codemirror_mode": {
    "name": "ipython",
    "version": 3
   },
   "file_extension": ".py",
   "mimetype": "text/x-python",
   "name": "python",
   "nbconvert_exporter": "python",
   "pygments_lexer": "ipython3",
   "version": "3.9.5"
  }
 },
 "nbformat": 4,
 "nbformat_minor": 5
}
